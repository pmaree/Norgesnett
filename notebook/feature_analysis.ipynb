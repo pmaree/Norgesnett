{
 "cells": [
  {
   "cell_type": "code",
   "execution_count": 1,
   "metadata": {
    "collapsed": true
   },
   "outputs": [],
   "source": [
    "import polars as pl\n",
    "import os"
   ]
  },
  {
   "cell_type": "code",
   "execution_count": 2,
   "outputs": [
    {
     "name": "stdout",
     "output_type": "stream",
     "text": [
      "/home/phillip/repo/Norgesnett/notebook/../data/silver/\n"
     ]
    }
   ],
   "source": [
    "PATH = os.getcwd()\n",
    "path = f\"{PATH}/../data/silver/\""
   ],
   "metadata": {
    "collapsed": false
   }
  },
  {
   "cell_type": "code",
   "execution_count": 52,
   "outputs": [],
   "source": [
    "# load features table\n",
    "df = pl.read_parquet(os.path.join(path,'features'))"
   ],
   "metadata": {
    "collapsed": false
   }
  },
  {
   "cell_type": "code",
   "execution_count": 3,
   "outputs": [],
   "source": [
    "df = pl.read_parquet(os.path.join(path,'S_17279_T_1513'))"
   ],
   "metadata": {
    "collapsed": false
   }
  },
  {
   "cell_type": "code",
   "execution_count": 53,
   "outputs": [],
   "source": [
    "# Filter neighborhoods on plusskunde penetration\n",
    "def r1_filter_penetration(df: pl.DataFrame, lower_limit: float):\n",
    "    return df.filter(pl.col('res_pen_pers')>lower_limit)"
   ],
   "metadata": {
    "collapsed": false
   }
  },
  {
   "cell_type": "code",
   "execution_count": 13,
   "outputs": [
    {
     "data": {
      "text/plain": "shape: (1, 6)\n┌──────────────┬──────────────┬────────────────┬────────────────────┬────────────┬────────────┐\n│ fromTime     ┆ toTime       ┆ topology       ┆ meteringPointId    ┆ p_load_kwh ┆ p_prod_kwh │\n│ ---          ┆ ---          ┆ ---            ┆ ---                ┆ ---        ┆ ---        │\n│ datetime[μs] ┆ datetime[μs] ┆ str            ┆ str                ┆ f64        ┆ f64        │\n╞══════════════╪══════════════╪════════════════╪════════════════════╪════════════╪════════════╡\n│ 2023-09-01   ┆ 2023-09-01   ┆ S_17279_T_1513 ┆ 707057500017299122 ┆ 5.42       ┆ 2.58       │\n│ 01:00:00     ┆ 02:00:00     ┆                ┆                    ┆            ┆            │\n└──────────────┴──────────────┴────────────────┴────────────────────┴────────────┴────────────┘",
      "text/html": "<div><style>\n.dataframe > thead > tr > th,\n.dataframe > tbody > tr > td {\n  text-align: right;\n  white-space: pre-wrap;\n}\n</style>\n<small>shape: (1, 6)</small><table border=\"1\" class=\"dataframe\"><thead><tr><th>fromTime</th><th>toTime</th><th>topology</th><th>meteringPointId</th><th>p_load_kwh</th><th>p_prod_kwh</th></tr><tr><td>datetime[μs]</td><td>datetime[μs]</td><td>str</td><td>str</td><td>f64</td><td>f64</td></tr></thead><tbody><tr><td>2023-09-01 01:00:00</td><td>2023-09-01 02:00:00</td><td>&quot;S_17279_T_1513…</td><td>&quot;70705750001729…</td><td>5.42</td><td>2.58</td></tr></tbody></table></div>"
     },
     "execution_count": 13,
     "metadata": {},
     "output_type": "execute_result"
    }
   ],
   "source": [
    "df.select(pl.col('p_prod_kwh').max())\n",
    "df.select(pl.col('meteringPointId').first()).item()\n",
    "df.filter(pl.col('meteringPointId')=='707057500017299122').max()"
   ],
   "metadata": {
    "collapsed": false
   }
  },
  {
   "cell_type": "code",
   "execution_count": 8,
   "outputs": [
    {
     "data": {
      "text/plain": "['fromTime',\n 'toTime',\n 'topology',\n 'meteringPointId',\n 'p_load_kwh',\n 'p_prod_kwh']"
     },
     "execution_count": 8,
     "metadata": {},
     "output_type": "execute_result"
    }
   ],
   "source": [
    "df.columns"
   ],
   "metadata": {
    "collapsed": false
   }
  },
  {
   "cell_type": "code",
   "execution_count": 54,
   "outputs": [],
   "source": [
    "# Filter for neighborhood size (closed-set of AMI grouping having at least 1 PCC)\n",
    "# Reference: https://gridarchitecture.pnnl.gov/media/Modern-Distribution-Grid_Volume_II_v2_0.pdf (20 -150 reference)\n",
    "def r2_filter_ami_cnt_lower_limit(df: pl.DataFrame, lower_limit: float):\n",
    "    return df.filter(pl.col('ami_cnt')>lower_limit)"
   ],
   "metadata": {
    "collapsed": false
   }
  },
  {
   "cell_type": "code",
   "execution_count": 55,
   "outputs": [],
   "source": [
    "# Filter for a neighborhood having a minimal number of production points\n",
    "def r3_filter_ami_prod_cnt_lower_limit(df: pl.DataFrame, lower_limit: float):\n",
    "    return df.filter(pl.col('ami_prod_cnt')>lower_limit)"
   ],
   "metadata": {
    "collapsed": false
   }
  },
  {
   "cell_type": "code",
   "execution_count": 56,
   "outputs": [],
   "source": [
    "# Filter for a neighborhood having at least 1 production point producing more than limit\n",
    "def r4_filter_include_for_production_over(df: pl.DataFrame, lower_limit: float):\n",
    "    return df.filter(pl.col('p_prod_max')>lower_limit)"
   ],
   "metadata": {
    "collapsed": false
   }
  },
  {
   "cell_type": "code",
   "execution_count": 57,
   "outputs": [],
   "source": [
    "# Filter for neighborhoods that as at least 1 plusskunde net exporting more than limit\n",
    "def r5_filter_for_ami_net_export(df: pl.DataFrame, lower_limit: float):\n",
    "    return df.filter(pl.col('net_export_max')>lower_limit)"
   ],
   "metadata": {
    "collapsed": false
   }
  },
  {
   "cell_type": "code",
   "execution_count": 58,
   "outputs": [],
   "source": [
    "# Filter for neighorhoods with aggregated net export ratio penetration\n",
    "def r6_filter_for_neighborhood_net_export_to_peak_load(df: pl.DataFrame, lower_limit: float):\n",
    "    print('hello')\n",
    "    return df"
   ],
   "metadata": {
    "collapsed": false
   }
  },
  {
   "cell_type": "code",
   "execution_count": 59,
   "outputs": [],
   "source": [
    "# Scenario\n",
    "def scenario(df: pl.DataFrame, scenario_args: dict) -> dict:\n",
    "    df = r1_filter_penetration(df, args['r1_lb'])\n",
    "    df = r2_filter_ami_cnt_lower_limit(df, args['r2_lb'])\n",
    "    df = r3_filter_ami_prod_cnt_lower_limit(df, args['r3_lb'])\n",
    "    df = r4_filter_include_for_production_over(df, args['r4_lb'])\n",
    "    df = r5_filter_for_ami_net_export(df, args['r5_lb'])\n",
    "    df = r6_filter_for_neighborhood_net_export_to_peak_load(df,  args['r6_lb'])\n",
    "\n",
    "    # solve some statistics\n",
    "    return {'number_of_neighborhoods'}"
   ],
   "metadata": {
    "collapsed": false
   }
  },
  {
   "cell_type": "code",
   "execution_count": 47,
   "outputs": [
    {
     "ename": "KeyboardInterrupt",
     "evalue": "",
     "output_type": "error",
     "traceback": [
      "\u001B[0;31m---------------------------------------------------------------------------\u001B[0m",
      "\u001B[0;31mKeyboardInterrupt\u001B[0m                         Traceback (most recent call last)",
      "Cell \u001B[0;32mIn[47], line 2\u001B[0m\n\u001B[1;32m      1\u001B[0m args \u001B[38;5;241m=\u001B[39m {\u001B[38;5;124m'\u001B[39m\u001B[38;5;124mr1_lb\u001B[39m\u001B[38;5;124m'\u001B[39m:\u001B[38;5;241m0\u001B[39m, \u001B[38;5;124m'\u001B[39m\u001B[38;5;124mr2_lb\u001B[39m\u001B[38;5;124m'\u001B[39m:\u001B[38;5;241m0\u001B[39m, \u001B[38;5;124m'\u001B[39m\u001B[38;5;124mr3_lb\u001B[39m\u001B[38;5;124m'\u001B[39m:\u001B[38;5;241m0\u001B[39m, \u001B[38;5;124m'\u001B[39m\u001B[38;5;124mr4_lb\u001B[39m\u001B[38;5;124m'\u001B[39m:\u001B[38;5;241m0\u001B[39m, \u001B[38;5;124m'\u001B[39m\u001B[38;5;124mr5_lb\u001B[39m\u001B[38;5;124m'\u001B[39m:\u001B[38;5;241m0\u001B[39m, \u001B[38;5;124m'\u001B[39m\u001B[38;5;124mr6_lb\u001B[39m\u001B[38;5;124m'\u001B[39m:\u001B[38;5;241m0\u001B[39m}\n\u001B[0;32m----> 2\u001B[0m \u001B[43mscenario\u001B[49m\u001B[43m(\u001B[49m\u001B[43mdf\u001B[49m\u001B[38;5;241;43m=\u001B[39;49m\u001B[43mdf\u001B[49m\u001B[43m,\u001B[49m\u001B[43m \u001B[49m\u001B[43mscenario_args\u001B[49m\u001B[43m \u001B[49m\u001B[38;5;241;43m=\u001B[39;49m\u001B[43m \u001B[49m\u001B[43margs\u001B[49m\u001B[43m)\u001B[49m\n",
      "Cell \u001B[0;32mIn[41], line 3\u001B[0m, in \u001B[0;36mscenario\u001B[0;34m(df, scenario_args)\u001B[0m\n\u001B[1;32m      2\u001B[0m \u001B[38;5;28;01mdef\u001B[39;00m \u001B[38;5;21mscenario\u001B[39m(df: pl\u001B[38;5;241m.\u001B[39mDataFrame, scenario_args: \u001B[38;5;28mdict\u001B[39m) \u001B[38;5;241m-\u001B[39m\u001B[38;5;241m>\u001B[39m \u001B[38;5;28mdict\u001B[39m:\n\u001B[0;32m----> 3\u001B[0m     df \u001B[38;5;241m=\u001B[39m \u001B[43mr1_filter_penetration\u001B[49m\u001B[43m(\u001B[49m\u001B[43mdf\u001B[49m\u001B[43m,\u001B[49m\u001B[43m \u001B[49m\u001B[43margs\u001B[49m\u001B[43m[\u001B[49m\u001B[38;5;124;43m'\u001B[39;49m\u001B[38;5;124;43mr1_lb\u001B[39;49m\u001B[38;5;124;43m'\u001B[39;49m\u001B[43m]\u001B[49m\u001B[43m)\u001B[49m\n\u001B[1;32m      4\u001B[0m     df \u001B[38;5;241m=\u001B[39m r2_filter_ami_cnt_lower_limit(df, args[\u001B[38;5;124m'\u001B[39m\u001B[38;5;124mr2_lb\u001B[39m\u001B[38;5;124m'\u001B[39m])\n\u001B[1;32m      5\u001B[0m     df \u001B[38;5;241m=\u001B[39m r3_filter_ami_prod_cnt_lower_limit(df, args[\u001B[38;5;124m'\u001B[39m\u001B[38;5;124mr3_lb\u001B[39m\u001B[38;5;124m'\u001B[39m])\n",
      "Cell \u001B[0;32mIn[35], line 3\u001B[0m, in \u001B[0;36mr1_filter_penetration\u001B[0;34m(df, lower_limit)\u001B[0m\n\u001B[1;32m      2\u001B[0m \u001B[38;5;28;01mdef\u001B[39;00m \u001B[38;5;21mr1_filter_penetration\u001B[39m(df: pl\u001B[38;5;241m.\u001B[39mDataFrame, lower_limit: \u001B[38;5;28mfloat\u001B[39m):\n\u001B[0;32m----> 3\u001B[0m     \u001B[38;5;28;01mreturn\u001B[39;00m \u001B[43mdf\u001B[49m\u001B[38;5;241m.\u001B[39mfilter(pl\u001B[38;5;241m.\u001B[39mcol(\u001B[38;5;124m'\u001B[39m\u001B[38;5;124mres_pen_pers\u001B[39m\u001B[38;5;124m'\u001B[39m)\u001B[38;5;241m>\u001B[39mlower_limit)\n",
      "Cell \u001B[0;32mIn[35], line 3\u001B[0m, in \u001B[0;36mr1_filter_penetration\u001B[0;34m(df, lower_limit)\u001B[0m\n\u001B[1;32m      2\u001B[0m \u001B[38;5;28;01mdef\u001B[39;00m \u001B[38;5;21mr1_filter_penetration\u001B[39m(df: pl\u001B[38;5;241m.\u001B[39mDataFrame, lower_limit: \u001B[38;5;28mfloat\u001B[39m):\n\u001B[0;32m----> 3\u001B[0m     \u001B[38;5;28;01mreturn\u001B[39;00m \u001B[43mdf\u001B[49m\u001B[38;5;241m.\u001B[39mfilter(pl\u001B[38;5;241m.\u001B[39mcol(\u001B[38;5;124m'\u001B[39m\u001B[38;5;124mres_pen_pers\u001B[39m\u001B[38;5;124m'\u001B[39m)\u001B[38;5;241m>\u001B[39mlower_limit)\n",
      "File \u001B[0;32m~/.local/share/JetBrains/Toolbox/apps/PyCharm-P/ch-0/223.8836.43/plugins/python/helpers/pydev/_pydevd_bundle/pydevd_frame.py:880\u001B[0m, in \u001B[0;36mPyDBFrame.trace_dispatch\u001B[0;34m(self, frame, event, arg)\u001B[0m\n\u001B[1;32m    877\u001B[0m             stop \u001B[38;5;241m=\u001B[39m \u001B[38;5;28;01mFalse\u001B[39;00m\n\u001B[1;32m    879\u001B[0m \u001B[38;5;28;01mif\u001B[39;00m plugin_stop:\n\u001B[0;32m--> 880\u001B[0m     stopped_on_plugin \u001B[38;5;241m=\u001B[39m \u001B[43mplugin_manager\u001B[49m\u001B[38;5;241;43m.\u001B[39;49m\u001B[43mstop\u001B[49m\u001B[43m(\u001B[49m\u001B[43mmain_debugger\u001B[49m\u001B[43m,\u001B[49m\u001B[43m \u001B[49m\u001B[43mframe\u001B[49m\u001B[43m,\u001B[49m\u001B[43m \u001B[49m\u001B[43mevent\u001B[49m\u001B[43m,\u001B[49m\u001B[43m \u001B[49m\u001B[38;5;28;43mself\u001B[39;49m\u001B[38;5;241;43m.\u001B[39;49m\u001B[43m_args\u001B[49m\u001B[43m,\u001B[49m\u001B[43m \u001B[49m\u001B[43mstop_info\u001B[49m\u001B[43m,\u001B[49m\u001B[43m \u001B[49m\u001B[43marg\u001B[49m\u001B[43m,\u001B[49m\u001B[43m \u001B[49m\u001B[43mstep_cmd\u001B[49m\u001B[43m)\u001B[49m\n\u001B[1;32m    881\u001B[0m \u001B[38;5;28;01melif\u001B[39;00m stop:\n\u001B[1;32m    882\u001B[0m     \u001B[38;5;28;01mif\u001B[39;00m is_line:\n",
      "File \u001B[0;32m~/.local/share/JetBrains/Toolbox/apps/PyCharm-P/ch-0/223.8836.43/plugins/python/helpers-pro/jupyter_debug/pydev_jupyter_plugin.py:169\u001B[0m, in \u001B[0;36mstop\u001B[0;34m(plugin, pydb, frame, event, args, stop_info, arg, step_cmd)\u001B[0m\n\u001B[1;32m    167\u001B[0m     frame \u001B[38;5;241m=\u001B[39m suspend_jupyter(main_debugger, thread, frame, step_cmd)\n\u001B[1;32m    168\u001B[0m     \u001B[38;5;28;01mif\u001B[39;00m frame:\n\u001B[0;32m--> 169\u001B[0m         \u001B[43mmain_debugger\u001B[49m\u001B[38;5;241;43m.\u001B[39;49m\u001B[43mdo_wait_suspend\u001B[49m\u001B[43m(\u001B[49m\u001B[43mthread\u001B[49m\u001B[43m,\u001B[49m\u001B[43m \u001B[49m\u001B[43mframe\u001B[49m\u001B[43m,\u001B[49m\u001B[43m \u001B[49m\u001B[43mevent\u001B[49m\u001B[43m,\u001B[49m\u001B[43m \u001B[49m\u001B[43marg\u001B[49m\u001B[43m)\u001B[49m\n\u001B[1;32m    170\u001B[0m         \u001B[38;5;28;01mreturn\u001B[39;00m \u001B[38;5;28;01mTrue\u001B[39;00m\n\u001B[1;32m    171\u001B[0m \u001B[38;5;28;01mreturn\u001B[39;00m \u001B[38;5;28;01mFalse\u001B[39;00m\n",
      "File \u001B[0;32m~/.local/share/JetBrains/Toolbox/apps/PyCharm-P/ch-0/223.8836.43/plugins/python/helpers/pydev/pydevd.py:1160\u001B[0m, in \u001B[0;36mPyDB.do_wait_suspend\u001B[0;34m(self, thread, frame, event, arg, send_suspend_message, is_unhandled_exception)\u001B[0m\n\u001B[1;32m   1157\u001B[0m         from_this_thread\u001B[38;5;241m.\u001B[39mappend(frame_id)\n\u001B[1;32m   1159\u001B[0m \u001B[38;5;28;01mwith\u001B[39;00m \u001B[38;5;28mself\u001B[39m\u001B[38;5;241m.\u001B[39m_threads_suspended_single_notification\u001B[38;5;241m.\u001B[39mnotify_thread_suspended(thread_id, stop_reason):\n\u001B[0;32m-> 1160\u001B[0m     \u001B[38;5;28;43mself\u001B[39;49m\u001B[38;5;241;43m.\u001B[39;49m\u001B[43m_do_wait_suspend\u001B[49m\u001B[43m(\u001B[49m\u001B[43mthread\u001B[49m\u001B[43m,\u001B[49m\u001B[43m \u001B[49m\u001B[43mframe\u001B[49m\u001B[43m,\u001B[49m\u001B[43m \u001B[49m\u001B[43mevent\u001B[49m\u001B[43m,\u001B[49m\u001B[43m \u001B[49m\u001B[43marg\u001B[49m\u001B[43m,\u001B[49m\u001B[43m \u001B[49m\u001B[43msuspend_type\u001B[49m\u001B[43m,\u001B[49m\u001B[43m \u001B[49m\u001B[43mfrom_this_thread\u001B[49m\u001B[43m)\u001B[49m\n",
      "File \u001B[0;32m~/.local/share/JetBrains/Toolbox/apps/PyCharm-P/ch-0/223.8836.43/plugins/python/helpers/pydev/pydevd.py:1175\u001B[0m, in \u001B[0;36mPyDB._do_wait_suspend\u001B[0;34m(self, thread, frame, event, arg, suspend_type, from_this_thread)\u001B[0m\n\u001B[1;32m   1172\u001B[0m             \u001B[38;5;28mself\u001B[39m\u001B[38;5;241m.\u001B[39m_call_mpl_hook()\n\u001B[1;32m   1174\u001B[0m         \u001B[38;5;28mself\u001B[39m\u001B[38;5;241m.\u001B[39mprocess_internal_commands()\n\u001B[0;32m-> 1175\u001B[0m         \u001B[43mtime\u001B[49m\u001B[38;5;241;43m.\u001B[39;49m\u001B[43msleep\u001B[49m\u001B[43m(\u001B[49m\u001B[38;5;241;43m0.01\u001B[39;49m\u001B[43m)\u001B[49m\n\u001B[1;32m   1177\u001B[0m \u001B[38;5;28mself\u001B[39m\u001B[38;5;241m.\u001B[39mcancel_async_evaluation(get_current_thread_id(thread), \u001B[38;5;28mstr\u001B[39m(\u001B[38;5;28mid\u001B[39m(frame)))\n\u001B[1;32m   1179\u001B[0m \u001B[38;5;66;03m# process any stepping instructions\u001B[39;00m\n",
      "\u001B[0;31mKeyboardInterrupt\u001B[0m: "
     ]
    }
   ],
   "source": [
    "args = {'r1_lb':0, 'r2_lb':0, 'r3_lb':0, 'r4_lb':0, 'r5_lb':0, 'r6_lb':0}\n",
    "scenario(df=df, scenario_args = args)"
   ],
   "metadata": {
    "collapsed": false
   }
  },
  {
   "cell_type": "code",
   "execution_count": null,
   "outputs": [],
   "source": [],
   "metadata": {
    "collapsed": false
   }
  },
  {
   "cell_type": "code",
   "execution_count": 60,
   "outputs": [
    {
     "name": "stdout",
     "output_type": "stream",
     "text": [
      "hello\n"
     ]
    },
    {
     "data": {
      "text/plain": "shape: (3_149, 16)\n┌───────────┬───────────┬───────────┬───────────┬───┬───────────┬───────────┬───────────┬──────────┐\n│ topology  ┆ coordinat ┆ date_from ┆ date_to   ┆ … ┆ net_expor ┆ p_load_nb ┆ p_prod_nb ┆ p_gexp_n │\n│ ---       ┆ e         ┆ ---       ┆ ---       ┆   ┆ t_min     ┆ _max_24h_ ┆ _max_24h_ ┆ b_max_24 │\n│ str       ┆ ---       ┆ str       ┆ str       ┆   ┆ ---       ┆ agg_kwh   ┆ agg_kwh   ┆ h_agg_kw │\n│           ┆ str       ┆           ┆           ┆   ┆ f64       ┆ ---       ┆ ---       ┆ h        │\n│           ┆           ┆           ┆           ┆   ┆           ┆ f64       ┆ f64       ┆ ---      │\n│           ┆           ┆           ┆           ┆   ┆           ┆           ┆           ┆ f64      │\n╞═══════════╪═══════════╪═══════════╪═══════════╪═══╪═══════════╪═══════════╪═══════════╪══════════╡\n│ S_645049_ ┆ 59.857865 ┆ 2023-03-0 ┆ 2023-09-0 ┆ … ┆ -110.0    ┆ 1680.0    ┆ 0.0       ┆ 0.0      │\n│ T_602401  ┆ 3975476   ┆ 1T00:00:0 ┆ 1T01:00:0 ┆   ┆           ┆           ┆           ┆          │\n│           ┆ 10.660568 ┆ 0         ┆ 0         ┆   ┆           ┆           ┆           ┆          │\n│           ┆ 710135    ┆           ┆           ┆   ┆           ┆           ┆           ┆          │\n│ S_2042_T_ ┆ 59.237072 ┆ 2023-03-0 ┆ 2023-09-0 ┆ … ┆ -10.0     ┆ 967.9     ┆ 0.0       ┆ 0.0      │\n│ 1306      ┆ 9139612   ┆ 1T00:00:0 ┆ 1T01:00:0 ┆   ┆           ┆           ┆           ┆          │\n│           ┆ 10.921232 ┆ 0         ┆ 0         ┆   ┆           ┆           ┆           ┆          │\n│           ┆ 202748    ┆           ┆           ┆   ┆           ┆           ┆           ┆          │\n│ S_1134873 ┆ 60.439647 ┆ 2023-03-0 ┆ 2023-09-0 ┆ … ┆ -168.8    ┆ 2969.4    ┆ 0.0       ┆ 0.0      │\n│ _T_113450 ┆ 8460607   ┆ 1T00:00:0 ┆ 1T01:00:0 ┆   ┆           ┆           ┆           ┆          │\n│ 4         ┆ 5.1896682 ┆ 0         ┆ 0         ┆   ┆           ┆           ┆           ┆          │\n│           ┆ 385283…   ┆           ┆           ┆   ┆           ┆           ┆           ┆          │\n│ S_26_T_43 ┆ 59.237669 ┆ 2023-03-0 ┆ 2023-09-0 ┆ … ┆ -22.1     ┆ 813.0     ┆ 9.5       ┆ 0.0      │\n│ 3028      ┆ 8556945   ┆ 1T00:00:0 ┆ 1T01:00:0 ┆   ┆           ┆           ┆           ┆          │\n│           ┆ 11.012480 ┆ 0         ┆ 0         ┆   ┆           ┆           ┆           ┆          │\n│           ┆ 789633…   ┆           ┆           ┆   ┆           ┆           ┆           ┆          │\n│ …         ┆ …         ┆ …         ┆ …         ┆ … ┆ …         ┆ …         ┆ …         ┆ …        │\n│ S_563440_ ┆ 59.194518 ┆ 2023-03-0 ┆ 2023-09-0 ┆ … ┆ -88.1     ┆ 2034.5    ┆ 0.0       ┆ 0.0      │\n│ T_558820  ┆ 9965251   ┆ 1T00:00:0 ┆ 1T01:00:0 ┆   ┆           ┆           ┆           ┆          │\n│           ┆ 10.933971 ┆ 0         ┆ 0         ┆   ┆           ┆           ┆           ┆          │\n│           ┆ 637838…   ┆           ┆           ┆   ┆           ┆           ┆           ┆          │\n│ S_1134864 ┆ 60.438196 ┆ 2023-03-0 ┆ 2023-09-0 ┆ … ┆ -6.1      ┆ 148.2     ┆ 0.0       ┆ 0.0      │\n│ _T_113451 ┆ 9547394   ┆ 1T00:00:0 ┆ 1T01:00:0 ┆   ┆           ┆           ┆           ┆          │\n│ 3         ┆ 5.0733074 ┆ 0         ┆ 0         ┆   ┆           ┆           ┆           ┆          │\n│           ┆ 201170…   ┆           ┆           ┆   ┆           ┆           ┆           ┆          │\n│ S_571328_ ┆ 59.772774 ┆ 2023-03-0 ┆ 2023-09-0 ┆ … ┆ -332.7    ┆ 5061.5    ┆ 0.0       ┆ 0.0      │\n│ T_568427  ┆ 8670812   ┆ 1T00:00:0 ┆ 1T01:00:0 ┆   ┆           ┆           ┆           ┆          │\n│           ┆ 10.837979 ┆ 0         ┆ 0         ┆   ┆           ┆           ┆           ┆          │\n│           ┆ 380409…   ┆           ┆           ┆   ┆           ┆           ┆           ┆          │\n│ S_513418_ ┆ 59.717446 ┆ 2023-03-0 ┆ 2023-09-0 ┆ … ┆ -13.6     ┆ 960.9     ┆ 0.0       ┆ 0.0      │\n│ T_512819  ┆ 0544881   ┆ 1T00:00:0 ┆ 1T01:00:0 ┆   ┆           ┆           ┆           ┆          │\n│           ┆ 11.179027 ┆ 0         ┆ 0         ┆   ┆           ┆           ┆           ┆          │\n│           ┆ 354587…   ┆           ┆           ┆   ┆           ┆           ┆           ┆          │\n└───────────┴───────────┴───────────┴───────────┴───┴───────────┴───────────┴───────────┴──────────┘",
      "text/html": "<div><style>\n.dataframe > thead > tr > th,\n.dataframe > tbody > tr > td {\n  text-align: right;\n  white-space: pre-wrap;\n}\n</style>\n<small>shape: (3_149, 16)</small><table border=\"1\" class=\"dataframe\"><thead><tr><th>topology</th><th>coordinate</th><th>date_from</th><th>date_to</th><th>sample_cnt</th><th>ami_cnt</th><th>ami_load_cnt</th><th>ami_prod_cnt</th><th>res_pen_pers</th><th>p_load_max</th><th>p_prod_max</th><th>net_export_max</th><th>net_export_min</th><th>p_load_nb_max_24h_agg_kwh</th><th>p_prod_nb_max_24h_agg_kwh</th><th>p_gexp_nb_max_24h_agg_kwh</th></tr><tr><td>str</td><td>str</td><td>str</td><td>str</td><td>i64</td><td>i64</td><td>i64</td><td>i64</td><td>f64</td><td>f64</td><td>f64</td><td>f64</td><td>f64</td><td>f64</td><td>f64</td><td>f64</td></tr></thead><tbody><tr><td>&quot;S_645049_T_602…</td><td>&quot;59.85786539754…</td><td>&quot;2023-03-01T00:…</td><td>&quot;2023-09-01T01:…</td><td>4417</td><td>1</td><td>1</td><td>0</td><td>0.0</td><td>110.0</td><td>0.0</td><td>0.0</td><td>-110.0</td><td>1680.0</td><td>0.0</td><td>0.0</td></tr><tr><td>&quot;S_2042_T_1306&quot;</td><td>&quot;59.23707291396…</td><td>&quot;2023-03-01T00:…</td><td>&quot;2023-09-01T01:…</td><td>79506</td><td>18</td><td>18</td><td>0</td><td>0.0</td><td>10.0</td><td>0.0</td><td>0.0</td><td>-10.0</td><td>967.9</td><td>0.0</td><td>0.0</td></tr><tr><td>&quot;S_1134873_T_11…</td><td>&quot;60.43964784606…</td><td>&quot;2023-03-01T00:…</td><td>&quot;2023-09-01T01:…</td><td>4417</td><td>1</td><td>1</td><td>0</td><td>0.0</td><td>168.8</td><td>0.0</td><td>0.0</td><td>-168.8</td><td>2969.4</td><td>0.0</td><td>0.0</td></tr><tr><td>&quot;S_26_T_433028&quot;</td><td>&quot;59.23766985569…</td><td>&quot;2023-03-01T00:…</td><td>&quot;2023-09-01T01:…</td><td>30919</td><td>7</td><td>6</td><td>1</td><td>16.7</td><td>22.1</td><td>1.9</td><td>1.9</td><td>-22.1</td><td>813.0</td><td>9.5</td><td>0.0</td></tr><tr><td>&quot;S_730604_T_711…</td><td>&quot;59.77068080945…</td><td>&quot;2023-03-01T00:…</td><td>&quot;2023-09-01T01:…</td><td>525623</td><td>119</td><td>119</td><td>5</td><td>4.2</td><td>50.6</td><td>9.8</td><td>9.8</td><td>-50.6</td><td>8677.0</td><td>255.9</td><td>0.0</td></tr><tr><td>&quot;S_17221_T_3415…</td><td>&quot;59.25180506786…</td><td>&quot;2023-03-01T00:…</td><td>&quot;2023-09-01T01:…</td><td>13251</td><td>3</td><td>3</td><td>0</td><td>0.0</td><td>12.1</td><td>0.0</td><td>0.0</td><td>-12.1</td><td>230.9</td><td>0.0</td><td>0.0</td></tr><tr><td>&quot;S_502508_T_501…</td><td>&quot;59.07820652361…</td><td>&quot;2023-03-01T00:…</td><td>&quot;2023-09-01T01:…</td><td>203182</td><td>46</td><td>46</td><td>2</td><td>4.3</td><td>20.3</td><td>12.8</td><td>12.8</td><td>-20.3</td><td>3915.5</td><td>130.3</td><td>0.0</td></tr><tr><td>&quot;S_7321_T_12192…</td><td>&quot;59.25099546383…</td><td>&quot;2023-03-01T00:…</td><td>&quot;2023-09-01T01:…</td><td>75089</td><td>17</td><td>17</td><td>1</td><td>5.9</td><td>63.7</td><td>24.3</td><td>24.3</td><td>-63.7</td><td>4784.1</td><td>186.4</td><td>0.0</td></tr><tr><td>&quot;S_625694_T_604…</td><td>&quot;59.24472638331…</td><td>&quot;2023-03-01T00:…</td><td>&quot;2023-09-01T01:…</td><td>17668</td><td>4</td><td>4</td><td>0</td><td>0.0</td><td>3.6</td><td>0.0</td><td>0.0</td><td>-3.6</td><td>129.6</td><td>0.0</td><td>0.0</td></tr><tr><td>&quot;S_524_T_1831&quot;</td><td>&quot;59.20464624144…</td><td>&quot;2023-03-01T00:…</td><td>&quot;2023-09-01T01:…</td><td>415198</td><td>94</td><td>94</td><td>6</td><td>6.4</td><td>19.2</td><td>13.4</td><td>13.3</td><td>-19.2</td><td>5444.5</td><td>368.6</td><td>0.0</td></tr><tr><td>&quot;S_1473016_T_15…</td><td>&quot;59.85555537995…</td><td>&quot;2023-03-01T00:…</td><td>&quot;2023-09-01T01:…</td><td>185514</td><td>42</td><td>42</td><td>1</td><td>2.4</td><td>16.6</td><td>6.0</td><td>6.0</td><td>-16.6</td><td>2062.6</td><td>46.1</td><td>0.0</td></tr><tr><td>&quot;S_1134823_T_11…</td><td>&quot;60.43232706228…</td><td>&quot;2023-03-01T00:…</td><td>&quot;2023-09-01T01:…</td><td>216433</td><td>49</td><td>49</td><td>0</td><td>0.0</td><td>22.9</td><td>0.0</td><td>0.0</td><td>-22.9</td><td>3579.0</td><td>0.0</td><td>0.0</td></tr><tr><td>&hellip;</td><td>&hellip;</td><td>&hellip;</td><td>&hellip;</td><td>&hellip;</td><td>&hellip;</td><td>&hellip;</td><td>&hellip;</td><td>&hellip;</td><td>&hellip;</td><td>&hellip;</td><td>&hellip;</td><td>&hellip;</td><td>&hellip;</td><td>&hellip;</td><td>&hellip;</td></tr><tr><td>&quot;S_5148_T_11036…</td><td>&quot;59.19907291439…</td><td>&quot;2023-03-01T00:…</td><td>&quot;2023-09-01T01:…</td><td>220850</td><td>50</td><td>50</td><td>0</td><td>0.0</td><td>31.0</td><td>0.0</td><td>0.0</td><td>-31.0</td><td>3774.2</td><td>0.0</td><td>0.0</td></tr><tr><td>&quot;S_571315_T_512…</td><td>&quot;59.77029871760…</td><td>&quot;2023-03-01T00:…</td><td>&quot;2023-09-01T01:…</td><td>203182</td><td>46</td><td>46</td><td>1</td><td>2.2</td><td>14.3</td><td>3.7</td><td>3.7</td><td>-14.3</td><td>3093.9</td><td>25.2</td><td>0.0</td></tr><tr><td>&quot;S_9352_T_9336&quot;</td><td>&quot;59.09721811737…</td><td>&quot;2023-03-01T00:…</td><td>&quot;2023-09-01T01:…</td><td>194348</td><td>44</td><td>44</td><td>1</td><td>2.3</td><td>19.3</td><td>5.6</td><td>5.6</td><td>-19.3</td><td>3739.2</td><td>42.7</td><td>0.0</td></tr><tr><td>&quot;S_1371140_T_13…</td><td>&quot;59.23099302892…</td><td>&quot;2023-03-01T00:…</td><td>&quot;2023-09-01T01:…</td><td>4417</td><td>1</td><td>1</td><td>0</td><td>0.0</td><td>230.2</td><td>0.0</td><td>0.0</td><td>-230.2</td><td>3396.0</td><td>0.0</td><td>0.0</td></tr><tr><td>&quot;S_513483_T_512…</td><td>&quot;59.76461835461…</td><td>&quot;2023-03-01T00:…</td><td>&quot;2023-09-01T01:…</td><td>335692</td><td>76</td><td>76</td><td>1</td><td>1.3</td><td>14.6</td><td>4.6</td><td>4.6</td><td>-14.6</td><td>5767.4</td><td>28.9</td><td>0.0</td></tr><tr><td>&quot;S_5238_T_5496&quot;</td><td>&quot;59.22884526148…</td><td>&quot;2023-03-01T00:…</td><td>&quot;2023-09-01T01:…</td><td>251769</td><td>57</td><td>57</td><td>0</td><td>0.0</td><td>27.2</td><td>0.0</td><td>0.0</td><td>-27.2</td><td>3809.2</td><td>0.0</td><td>0.0</td></tr><tr><td>&quot;S_625603_T_605…</td><td>&quot;59.76174512026…</td><td>&quot;2023-03-01T00:…</td><td>&quot;2023-09-01T01:…</td><td>4417</td><td>1</td><td>1</td><td>0</td><td>0.0</td><td>69.0</td><td>0.0</td><td>0.0</td><td>-69.0</td><td>936.6</td><td>0.0</td><td>0.0</td></tr><tr><td>&quot;S_224_T_882&quot;</td><td>&quot;59.07035393928…</td><td>&quot;2023-03-01T00:…</td><td>&quot;2023-09-01T01:…</td><td>234101</td><td>53</td><td>53</td><td>0</td><td>0.0</td><td>16.6</td><td>0.0</td><td>0.0</td><td>-16.6</td><td>4219.5</td><td>0.0</td><td>0.0</td></tr><tr><td>&quot;S_563440_T_558…</td><td>&quot;59.19451899652…</td><td>&quot;2023-03-01T00:…</td><td>&quot;2023-09-01T01:…</td><td>13251</td><td>3</td><td>3</td><td>0</td><td>0.0</td><td>88.1</td><td>0.0</td><td>0.0</td><td>-88.1</td><td>2034.5</td><td>0.0</td><td>0.0</td></tr><tr><td>&quot;S_1134864_T_11…</td><td>&quot;60.43819695473…</td><td>&quot;2023-03-01T00:…</td><td>&quot;2023-09-01T01:…</td><td>53004</td><td>12</td><td>11</td><td>0</td><td>0.0</td><td>6.1</td><td>0.0</td><td>0.0</td><td>-6.1</td><td>148.2</td><td>0.0</td><td>0.0</td></tr><tr><td>&quot;S_571328_T_568…</td><td>&quot;59.77277486708…</td><td>&quot;2023-03-01T00:…</td><td>&quot;2023-09-01T01:…</td><td>8834</td><td>2</td><td>2</td><td>0</td><td>0.0</td><td>332.7</td><td>0.0</td><td>0.0</td><td>-332.7</td><td>5061.5</td><td>0.0</td><td>0.0</td></tr><tr><td>&quot;S_513418_T_512…</td><td>&quot;59.71744605448…</td><td>&quot;2023-03-01T00:…</td><td>&quot;2023-09-01T01:…</td><td>53004</td><td>12</td><td>12</td><td>0</td><td>0.0</td><td>13.6</td><td>0.0</td><td>0.0</td><td>-13.6</td><td>960.9</td><td>0.0</td><td>0.0</td></tr></tbody></table></div>"
     },
     "execution_count": 60,
     "metadata": {},
     "output_type": "execute_result"
    }
   ],
   "source": [
    "r6_filter_for_neighborhood_net_export_to_peak_load(df,0)"
   ],
   "metadata": {
    "collapsed": false
   }
  }
 ],
 "metadata": {
  "kernelspec": {
   "display_name": "Python 3",
   "language": "python",
   "name": "python3"
  },
  "language_info": {
   "codemirror_mode": {
    "name": "ipython",
    "version": 2
   },
   "file_extension": ".py",
   "mimetype": "text/x-python",
   "name": "python",
   "nbconvert_exporter": "python",
   "pygments_lexer": "ipython2",
   "version": "2.7.6"
  }
 },
 "nbformat": 4,
 "nbformat_minor": 0
}
